{
 "cells": [
  {
   "cell_type": "markdown",
   "metadata": {},
   "source": [
    "# Example of how to use planck-low-py\n",
    "\n",
    "\n",
    "Call the python log-likelihood functions with the temperature or or E-mode polarization low-ell Cls (ell=2-29 inclusive)"
   ]
  },
  {
   "cell_type": "code",
   "execution_count": 1,
   "metadata": {},
   "outputs": [],
   "source": [
    "import numpy as np\n",
    "import planck_low_py"
   ]
  },
  {
   "cell_type": "code",
   "execution_count": 2,
   "metadata": {},
   "outputs": [],
   "source": [
    "Cls_2_to_29=np.genfromtxt('data/example_Cl.txt', names=True)"
   ]
  },
  {
   "cell_type": "code",
   "execution_count": 3,
   "metadata": {},
   "outputs": [],
   "source": [
    "# low-ell temperature log-likelihood from 2 lognormal bins\n",
    "loglike_low_TT=planck_low_py.planck_lowT_binned_loglike(Cls_2_to_29['TT'])"
   ]
  },
  {
   "cell_type": "code",
   "execution_count": 4,
   "metadata": {},
   "outputs": [],
   "source": [
    "# low-ell E-mode polarization log-likelihood from 3 lognormal bins\n",
    "loglike_low_EE=planck_low_py.planck_lowE_binned_loglike(Cls_2_to_29['EE'])"
   ]
  },
  {
   "cell_type": "code",
   "execution_count": 5,
   "metadata": {},
   "outputs": [
    {
     "name": "stdout",
     "output_type": "stream",
     "text": [
      "expected: -11.660801515314658\n",
      "got: -11.660801515314658\n",
      "difference: 0.0\n"
     ]
    }
   ],
   "source": [
    "expected_TT=-11.660801515314658\n",
    "print('expected:', expected_TT)\n",
    "print('got:',loglike_low_TT)\n",
    "print('difference:', loglike_low_TT-expected_TT)"
   ]
  },
  {
   "cell_type": "code",
   "execution_count": 6,
   "metadata": {},
   "outputs": [
    {
     "name": "stdout",
     "output_type": "stream",
     "text": [
      "expected: 9.656235151568294\n",
      "got: 9.656235151568294\n",
      "difference: 0.0\n"
     ]
    }
   ],
   "source": [
    "expected_EE=9.656235151568294\n",
    "print('expected:', expected_EE)\n",
    "print('got:',loglike_low_EE)\n",
    "print('difference:', loglike_low_EE-expected_EE)"
   ]
  },
  {
   "cell_type": "code",
   "execution_count": null,
   "metadata": {},
   "outputs": [],
   "source": []
  }
 ],
 "metadata": {
  "kernelspec": {
   "display_name": "Python (cosmoped)",
   "language": "python",
   "name": "cosmoped"
  },
  "language_info": {
   "codemirror_mode": {
    "name": "ipython",
    "version": 3
   },
   "file_extension": ".py",
   "mimetype": "text/x-python",
   "name": "python",
   "nbconvert_exporter": "python",
   "pygments_lexer": "ipython3",
   "version": "3.6.5"
  }
 },
 "nbformat": 4,
 "nbformat_minor": 4
}
